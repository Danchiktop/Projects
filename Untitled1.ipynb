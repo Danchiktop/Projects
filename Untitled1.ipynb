{
  "nbformat": 4,
  "nbformat_minor": 0,
  "metadata": {
    "colab": {
      "provenance": [],
      "authorship_tag": "ABX9TyNvnE+E3ynB3GTc2PgSX0pu",
      "include_colab_link": true
    },
    "kernelspec": {
      "name": "python3",
      "display_name": "Python 3"
    },
    "language_info": {
      "name": "python"
    }
  },
  "cells": [
    {
      "cell_type": "markdown",
      "metadata": {
        "id": "view-in-github",
        "colab_type": "text"
      },
      "source": [
        "<a href=\"https://colab.research.google.com/github/Danchiktop/Projects2/blob/main/Untitled1.ipynb\" target=\"_parent\"><img src=\"https://colab.research.google.com/assets/colab-badge.svg\" alt=\"Open In Colab\"/></a>"
      ]
    },
    {
      "cell_type": "code",
      "source": [
        "lang = \"EN\""
      ],
      "metadata": {
        "id": "WqYC5WJ7DFtu"
      },
      "execution_count": 193,
      "outputs": []
    },
    {
      "cell_type": "code",
      "source": [
        "prodol = 'y'"
      ],
      "metadata": {
        "id": "at0Exck6GTgX"
      },
      "execution_count": 194,
      "outputs": []
    },
    {
      "cell_type": "code",
      "source": [
        "lang_opt = input(\"Enter RU to change language into Russian or other EN to continue in English\")"
      ],
      "metadata": {
        "colab": {
          "base_uri": "https://localhost:8080/"
        },
        "id": "5rIxByQVDL95",
        "outputId": "dba5aeee-8706-4202-b4be-1a01059ecf86"
      },
      "execution_count": 195,
      "outputs": [
        {
          "name": "stdout",
          "output_type": "stream",
          "text": [
            "Enter RU to change language into Russian or other EN to continue in EnglishEN\n"
          ]
        }
      ]
    },
    {
      "cell_type": "code",
      "source": [
        "if lang_opt != 'RU':\n",
        "  while prodol == 'y':\n",
        "    first_number = float(input(\"Enter the first number\"))\n",
        "    operation = input (\"Enter operation\")\n",
        "    second_number = float(input(\"Enter second number\"))\n",
        "    if operation == \"+\":\n",
        "      print(first_number + second_number)\n",
        "    elif operation == \"-\":\n",
        "      print(first_number - second_number)\n",
        "    elif operation == \"*\":\n",
        "      print(first_number * second_number)\n",
        "    elif operation == \"/\":\n",
        "      print(round(first_number / second_number, 2))\n",
        "    else:\n",
        "      print (\"Error\")\n",
        "    prodol = input (\"Enter 'y', to continue or other symbol to finish\")\n",
        "else:\n",
        "  prodol = 'y'\n",
        "  while prodol == 'y':\n",
        "    first_number = float(input(\"Введите первое число\"))\n",
        "    operation = input (\"Введите операцию\")\n",
        "    second_number = float(input(\"Введите второе число\"))\n",
        "    if operation == \"+\":\n",
        "      print(first_number + second_number)\n",
        "    elif operation == \"-\":\n",
        "      print(first_number - second_number)\n",
        "    elif operation == \"*\":\n",
        "      print(first_number * second_number)\n",
        "    elif operation == \"/\":\n",
        "      print(round(first_number / second_number, 2))\n",
        "    else:\n",
        "      print (\"Error\")\n",
        "    prodol = input (\"Введите 'y', чтобы продолжить или любую клавишу, чтобы завершить\")"
      ],
      "metadata": {
        "colab": {
          "base_uri": "https://localhost:8080/"
        },
        "id": "vb9Z9hY_DfK3",
        "outputId": "6ea7889a-5190-4379-b98b-fa2b3d918b63"
      },
      "execution_count": 196,
      "outputs": [
        {
          "name": "stdout",
          "output_type": "stream",
          "text": [
            "Enter the first number23\n",
            "Enter operation-\n",
            "Enter second number45\n",
            "-22.0\n",
            "Enter 'y', to continue or other symbol to finishy\n",
            "Enter the first number45\n",
            "Enter operation*\n",
            "Enter second number34\n",
            "1530.0\n",
            "Enter 'y', to continue or other symbol to finishh\n"
          ]
        }
      ]
    }
  ]
}