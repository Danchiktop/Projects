{
  "nbformat": 4,
  "nbformat_minor": 0,
  "metadata": {
    "colab": {
      "provenance": [],
      "authorship_tag": "ABX9TyNhjzzmoKo+7vR9u160jxv0",
      "include_colab_link": true
    },
    "kernelspec": {
      "name": "python3",
      "display_name": "Python 3"
    },
    "language_info": {
      "name": "python"
    }
  },
  "cells": [
    {
      "cell_type": "markdown",
      "metadata": {
        "id": "view-in-github",
        "colab_type": "text"
      },
      "source": [
        "<a href=\"https://colab.research.google.com/github/Danchiktop/Projects/blob/main/EN_RU_Calculator1.ipynb\" target=\"_parent\"><img src=\"https://colab.research.google.com/assets/colab-badge.svg\" alt=\"Open In Colab\"/></a>"
      ]
    },
    {
      "cell_type": "code",
      "source": [
        "lang = \"EN\""
      ],
      "metadata": {
        "id": "WqYC5WJ7DFtu"
      },
      "execution_count": 9,
      "outputs": []
    },
    {
      "cell_type": "code",
      "source": [
        "prodol = 'y'"
      ],
      "metadata": {
        "id": "at0Exck6GTgX"
      },
      "execution_count": 10,
      "outputs": []
    },
    {
      "cell_type": "code",
      "source": [
        "lang_opt = input(\"Enter RU to change language into Russian or EN to continue in English\")"
      ],
      "metadata": {
        "id": "5rIxByQVDL95"
      },
      "execution_count": null,
      "outputs": []
    },
    {
      "cell_type": "code",
      "source": [
        "if lang_opt == 'EN':\n",
        "  while prodol == 'y':\n",
        "    first_number = float(input(\"Enter the first number\"))\n",
        "    operation = input (\"Enter operation (+, -, *, /, **, %)\")\n",
        "    second_number = float(input(\"Enter second number\"))\n",
        "    if operation == \"+\":\n",
        "      print(first_number + second_number)\n",
        "    elif operation == \"-\":\n",
        "      print(first_number - second_number)\n",
        "    elif operation == \"*\":\n",
        "      print(first_number * second_number)\n",
        "    elif operation == \"/\":\n",
        "      print(round(first_number / second_number, 2))\n",
        "    elif operation == \"**\":\n",
        "      print(first_number ** second_number)\n",
        "    elif operation == \"%\":\n",
        "      print(first_number % second_number)\n",
        "    else:\n",
        "      print (\"Error\")\n",
        "    prodol = input (\"Enter 'y', to continue or other symbol to finish\")\n",
        "elif lang_opt == 'RU':\n",
        "  while prodol == 'y':\n",
        "    first_number = float(input(\"Введите первое число\"))\n",
        "    operation = input (\"Введите операцию (+, -, *, /, **, %)\")\n",
        "    second_number = float(input(\"Введите второе число\"))\n",
        "    if operation == \"+\":\n",
        "      print(first_number + second_number)\n",
        "    elif operation == \"-\":\n",
        "      print(first_number - second_number)\n",
        "    elif operation == \"*\":\n",
        "      print(first_number * second_number)\n",
        "    elif operation == \"/\":\n",
        "      print(round(first_number / second_number, 2))\n",
        "    elif operation == \"**\":\n",
        "      print(first_number ** second_number)\n",
        "    elif operation == \"%\":\n",
        "      print(first_number % second_number)\n",
        "    else:\n",
        "      print (\"Error\")\n",
        "    prodol = input (\"Введите 'y', чтобы продолжить или любую клавишу, чтобы завершить\")\n",
        "else:\n",
        "  print(\"No language\")"
      ],
      "metadata": {
        "id": "vb9Z9hY_DfK3"
      },
      "execution_count": null,
      "outputs": []
    }
  ]
}